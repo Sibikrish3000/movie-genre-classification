{
 "cells": [
  {
   "cell_type": "code",
   "execution_count": 1,
   "id": "2fc416f5-b42b-4ac6-b8c7-bbd8fc744e3e",
   "metadata": {},
   "outputs": [],
   "source": [
    "import joblib"
   ]
  },
  {
   "cell_type": "code",
   "execution_count": 2,
   "id": "f3beef9f-73ba-4deb-9131-02a67adc9501",
   "metadata": {},
   "outputs": [],
   "source": [
    "import pandas as pd "
   ]
  },
  {
   "cell_type": "code",
   "execution_count": 3,
   "id": "4072a335-2bd6-4ccc-b2f0-246d4b6095c0",
   "metadata": {},
   "outputs": [],
   "source": [
    "train_data=pd.read_csv('cleaned_train.csv')\n",
    "test_data =pd.read_csv('cleaned_test.csv')"
   ]
  },
  {
   "cell_type": "code",
   "execution_count": 4,
   "id": "5c42cac3-fce5-4f10-a819-ab3c146d7f67",
   "metadata": {},
   "outputs": [
    {
     "data": {
      "text/html": [
       "<div>\n",
       "<style scoped>\n",
       "    .dataframe tbody tr th:only-of-type {\n",
       "        vertical-align: middle;\n",
       "    }\n",
       "\n",
       "    .dataframe tbody tr th {\n",
       "        vertical-align: top;\n",
       "    }\n",
       "\n",
       "    .dataframe thead th {\n",
       "        text-align: right;\n",
       "    }\n",
       "</style>\n",
       "<table border=\"1\" class=\"dataframe\">\n",
       "  <thead>\n",
       "    <tr style=\"text-align: right;\">\n",
       "      <th></th>\n",
       "      <th>movie</th>\n",
       "      <th>genre</th>\n",
       "      <th>description</th>\n",
       "    </tr>\n",
       "  </thead>\n",
       "  <tbody>\n",
       "    <tr>\n",
       "      <th>0</th>\n",
       "      <td>Edgar's Lunch (1998)</td>\n",
       "      <td>thriller</td>\n",
       "      <td>brane love life car apart job especi girlfrien...</td>\n",
       "    </tr>\n",
       "    <tr>\n",
       "      <th>1</th>\n",
       "      <td>La guerra de papá (1977)</td>\n",
       "      <td>comedy</td>\n",
       "      <td>spain march quico naughti child three belong w...</td>\n",
       "    </tr>\n",
       "    <tr>\n",
       "      <th>2</th>\n",
       "      <td>Off the Beaten Track (2010)</td>\n",
       "      <td>documentary</td>\n",
       "      <td>one year life albin famili shepherd north tran...</td>\n",
       "    </tr>\n",
       "    <tr>\n",
       "      <th>3</th>\n",
       "      <td>Meu Amigo Hindu (2015)</td>\n",
       "      <td>drama</td>\n",
       "      <td>father die spoken brother year seriou cancer d...</td>\n",
       "    </tr>\n",
       "    <tr>\n",
       "      <th>4</th>\n",
       "      <td>Er nu zhai (1955)</td>\n",
       "      <td>drama</td>\n",
       "      <td>known intern martial art superstar bruce lee a...</td>\n",
       "    </tr>\n",
       "    <tr>\n",
       "      <th>...</th>\n",
       "      <td>...</td>\n",
       "      <td>...</td>\n",
       "      <td>...</td>\n",
       "    </tr>\n",
       "    <tr>\n",
       "      <th>54195</th>\n",
       "      <td>\"Tales of Light &amp; Dark\" (2013)</td>\n",
       "      <td>horror</td>\n",
       "      <td>cover multipl genr tale light dark antholog we...</td>\n",
       "    </tr>\n",
       "    <tr>\n",
       "      <th>54196</th>\n",
       "      <td>Der letzte Mohikaner (1965)</td>\n",
       "      <td>western</td>\n",
       "      <td>alic cora munro attempt find father british of...</td>\n",
       "    </tr>\n",
       "    <tr>\n",
       "      <th>54197</th>\n",
       "      <td>Oliver Twink (2007)</td>\n",
       "      <td>adult</td>\n",
       "      <td>movi year make oliv twist art dodger fagin lov...</td>\n",
       "    </tr>\n",
       "    <tr>\n",
       "      <th>54198</th>\n",
       "      <td>Slipstream (1973)</td>\n",
       "      <td>drama</td>\n",
       "      <td>popular mysteri rock mike mallard askew broadc...</td>\n",
       "    </tr>\n",
       "    <tr>\n",
       "      <th>54199</th>\n",
       "      <td>Curitiba Zero Grau (2010)</td>\n",
       "      <td>drama</td>\n",
       "      <td>curitiba citi movement rhythm differ pulsat gr...</td>\n",
       "    </tr>\n",
       "  </tbody>\n",
       "</table>\n",
       "<p>54200 rows × 3 columns</p>\n",
       "</div>"
      ],
      "text/plain": [
       "                                  movie          genre  \\\n",
       "0                 Edgar's Lunch (1998)       thriller    \n",
       "1             La guerra de papá (1977)         comedy    \n",
       "2          Off the Beaten Track (2010)    documentary    \n",
       "3               Meu Amigo Hindu (2015)          drama    \n",
       "4                    Er nu zhai (1955)          drama    \n",
       "...                                 ...            ...   \n",
       "54195   \"Tales of Light & Dark\" (2013)         horror    \n",
       "54196      Der letzte Mohikaner (1965)        western    \n",
       "54197              Oliver Twink (2007)          adult    \n",
       "54198                Slipstream (1973)          drama    \n",
       "54199        Curitiba Zero Grau (2010)          drama    \n",
       "\n",
       "                                             description  \n",
       "0      brane love life car apart job especi girlfrien...  \n",
       "1      spain march quico naughti child three belong w...  \n",
       "2      one year life albin famili shepherd north tran...  \n",
       "3      father die spoken brother year seriou cancer d...  \n",
       "4      known intern martial art superstar bruce lee a...  \n",
       "...                                                  ...  \n",
       "54195  cover multipl genr tale light dark antholog we...  \n",
       "54196  alic cora munro attempt find father british of...  \n",
       "54197  movi year make oliv twist art dodger fagin lov...  \n",
       "54198  popular mysteri rock mike mallard askew broadc...  \n",
       "54199  curitiba citi movement rhythm differ pulsat gr...  \n",
       "\n",
       "[54200 rows x 3 columns]"
      ]
     },
     "execution_count": 4,
     "metadata": {},
     "output_type": "execute_result"
    }
   ],
   "source": [
    "test_data"
   ]
  },
  {
   "cell_type": "code",
   "execution_count": 5,
   "id": "d75ce513-ed05-41c7-b796-26c31de326db",
   "metadata": {},
   "outputs": [],
   "source": [
    "x=train_data['description']\n",
    "y=train_data['genre']\n",
    "x_test=test_data['description']\n",
    "y_test=test_data['genre']"
   ]
  },
  {
   "cell_type": "code",
   "execution_count": 6,
   "id": "d849c949-8b3a-4c32-9b3e-e3d568115e28",
   "metadata": {},
   "outputs": [],
   "source": [
    "from sklearn.model_selection import train_test_split\n",
    "X_train,X_valid,y_train,y_valid=train_test_split(x,y,test_size=0.2,random_state=42)"
   ]
  },
  {
   "cell_type": "code",
   "execution_count": 7,
   "id": "ea1a55bc-8932-47bc-8be7-9b2b2c77e8ae",
   "metadata": {},
   "outputs": [],
   "source": [
    "from sklearn.feature_extraction.text import TfidfVectorizer"
   ]
  },
  {
   "cell_type": "code",
   "execution_count": 8,
   "id": "00ca5b83-f4b6-44de-b569-7a93c1cc902a",
   "metadata": {},
   "outputs": [],
   "source": [
    "vectorizer=TfidfVectorizer()\n",
    "X_train=vectorizer.fit_transform(X_train)\n",
    "X_test=vectorizer.transform(x_test)\n",
    "X_valid=vectorizer.transform(X_valid)"
   ]
  },
  {
   "cell_type": "code",
   "execution_count": 9,
   "id": "af5aba78-8189-4264-a357-bb7b28e1b02a",
   "metadata": {},
   "outputs": [],
   "source": [
    "reg_model=joblib.load('Logistic Regression.pkl')\n",
    "svm_model=joblib.load('SVM.pkl')"
   ]
  },
  {
   "cell_type": "code",
   "execution_count": 10,
   "id": "c444c5b5-c2a7-4e90-95fe-3466f5d1441d",
   "metadata": {},
   "outputs": [],
   "source": [
    "from sklearn.pipeline import Pipeline"
   ]
  },
  {
   "cell_type": "code",
   "execution_count": 12,
   "id": "756e7570-34a1-4bae-bb7b-b9a26b070e4a",
   "metadata": {},
   "outputs": [],
   "source": [
    "reg_model_pipe= Pipeline([\n",
    "    ('tfidf', vectorizer),\n",
    "    ('reg', reg_model)\n",
    "])"
   ]
  },
  {
   "cell_type": "code",
   "execution_count": 13,
   "id": "1075dd48-d422-4508-aa4b-f21d2e6fe83e",
   "metadata": {},
   "outputs": [
    {
     "data": {
      "text/plain": [
       "array([' drama '], dtype=object)"
      ]
     },
     "execution_count": 13,
     "metadata": {},
     "output_type": "execute_result"
    }
   ],
   "source": [
    "reg_model_pipe.predict([\" sex betray seduct manipul addict love hate van\"])"
   ]
  },
  {
   "cell_type": "code",
   "execution_count": 14,
   "id": "b08ba829-40ed-4f8c-9d89-d7f2d0b3db2f",
   "metadata": {},
   "outputs": [],
   "source": [
    "svm_model_pipe= Pipeline([\n",
    "    ('tfidf', vectorizer),\n",
    "    ('reg', svm_model)\n",
    "])"
   ]
  },
  {
   "cell_type": "code",
   "execution_count": 15,
   "id": "ee545e76-8bbf-4e69-b569-9ca81a08ddf2",
   "metadata": {},
   "outputs": [
    {
     "data": {
      "text/plain": [
       "array([' drama '], dtype=object)"
      ]
     },
     "execution_count": 15,
     "metadata": {},
     "output_type": "execute_result"
    }
   ],
   "source": [
    "svm_model_pipe.predict([\" sex betray seduct manipul addict love hate van\"])"
   ]
  },
  {
   "cell_type": "code",
   "execution_count": 16,
   "id": "de38744e-683c-45bf-876d-6fdda7fb4aae",
   "metadata": {},
   "outputs": [
    {
     "data": {
      "text/plain": [
       "['Logistic_Regression_piped.pkl']"
      ]
     },
     "execution_count": 16,
     "metadata": {},
     "output_type": "execute_result"
    }
   ],
   "source": [
    "joblib.dump(reg_model_pipe,'Logistic_Regression_piped.pkl')"
   ]
  },
  {
   "cell_type": "code",
   "execution_count": 17,
   "id": "73c20594-dffb-4ae2-a34b-5bd4ff0730f2",
   "metadata": {},
   "outputs": [
    {
     "data": {
      "text/plain": [
       "['SVM_piped.pkl']"
      ]
     },
     "execution_count": 17,
     "metadata": {},
     "output_type": "execute_result"
    }
   ],
   "source": [
    "joblib.dump(svm_model_pipe,'SVM_piped.pkl')"
   ]
  },
  {
   "cell_type": "code",
   "execution_count": 18,
   "id": "7832986c-9a3d-400a-b361-6197c3ae332c",
   "metadata": {},
   "outputs": [],
   "source": [
    "test_models = {\n",
    "    'Logistic Regression': reg_model,\n",
    "    'SVM':svm_model\n",
    "}"
   ]
  },
  {
   "cell_type": "code",
   "execution_count": 21,
   "id": "033810f3-a51c-4abd-ad64-59520a15d6fb",
   "metadata": {},
   "outputs": [],
   "source": [
    "import warnings\n",
    "import joblib\n",
    "warnings.filterwarnings('ignore')\n",
    "from time import time"
   ]
  },
  {
   "cell_type": "code",
   "execution_count": 22,
   "id": "d5687731-f913-465a-854d-fd9dbf786cb6",
   "metadata": {},
   "outputs": [],
   "source": [
    "from sklearn.svm import SVC\n",
    "from sklearn.linear_model import LogisticRegression\n",
    "from sklearn.tree import DecisionTreeClassifier\n",
    "from sklearn.ensemble import ExtraTreesClassifier, RandomForestClassifier\n",
    "from sklearn.naive_bayes import MultinomialNB,BernoulliNB\n",
    "import xgboost as xgb\n",
    "from sklearn.metrics import accuracy_score, precision_score, recall_score, f1_score,classification_report"
   ]
  },
  {
   "cell_type": "code",
   "execution_count": 23,
   "id": "9a58e86c-34f0-4b5a-812e-b6021c3ab8e1",
   "metadata": {},
   "outputs": [],
   "source": [
    "def test_model(xtest,ytest):\n",
    "    for name,model in test_models.items():\n",
    "        print('Model:'+name)\n",
    "        print('_'*30)\n",
    "        start=time()\n",
    "        y_pred=model.predict(xtest)\n",
    "        end=time()\n",
    "        print(classification_report(ytest,y_pred))\n",
    "        print(f'\\nAccuracy score: {accuracy_score(ytest,y_pred)} \\nRunning Time: {round((end-start)/60.0,2)}')\n",
    "        print('*'*30)"
   ]
  },
  {
   "cell_type": "code",
   "execution_count": null,
   "id": "a72a0bdc-d897-4caa-9c78-4f18fe8efa0f",
   "metadata": {},
   "outputs": [
    {
     "name": "stdout",
     "output_type": "stream",
     "text": [
      "Model:Logistic Regression\n",
      "______________________________\n",
      "               precision    recall  f1-score   support\n",
      "\n",
      "      action        0.52      0.27      0.36      1314\n",
      "       adult        0.64      0.20      0.30       590\n",
      "   adventure        0.68      0.17      0.27       775\n",
      "   animation        0.53      0.04      0.08       498\n",
      "   biography        0.00      0.00      0.00       264\n",
      "      comedy        0.54      0.59      0.56      7446\n",
      "       crime        0.38      0.03      0.05       505\n",
      " documentary        0.66      0.85      0.74     13096\n",
      "       drama        0.53      0.79      0.63     13612\n",
      "      family        0.49      0.07      0.11       783\n",
      "     fantasy        0.67      0.01      0.02       322\n",
      "   game-show        0.93      0.48      0.63       193\n",
      "     history        0.00      0.00      0.00       243\n",
      "      horror        0.66      0.58      0.62      2204\n",
      "       music        0.63      0.42      0.50       731\n",
      "     musical        0.00      0.00      0.00       276\n",
      "     mystery        0.17      0.00      0.01       318\n",
      "        news        0.75      0.03      0.06       181\n",
      "  reality-tv        0.50      0.15      0.23       883\n",
      "     romance        0.38      0.01      0.02       672\n",
      "      sci-fi        0.59      0.20      0.30       646\n",
      "       short        0.49      0.30      0.37      5072\n",
      "       sport        0.74      0.20      0.31       431\n",
      "   talk-show        0.61      0.13      0.21       391\n",
      "    thriller        0.37      0.11      0.17      1590\n",
      "         war        1.00      0.01      0.02       132\n",
      "     western        0.92      0.69      0.79      1032\n",
      "\n",
      "     accuracy                           0.58     54200\n",
      "    macro avg       0.53      0.23      0.27     54200\n",
      " weighted avg       0.56      0.58      0.54     54200\n",
      "\n",
      "\n",
      "Accuracy score: 0.5808118081180812 \n",
      "Running Time: 0.0\n",
      "******************************\n",
      "Model:SVM\n",
      "______________________________\n"
     ]
    }
   ],
   "source": [
    "test_model(X_test,y_test)"
   ]
  },
  {
   "cell_type": "code",
   "execution_count": null,
   "id": "e4024ca7-2849-4dfc-b4af-4d8745c49708",
   "metadata": {},
   "outputs": [],
   "source": []
  }
 ],
 "metadata": {
  "kernelspec": {
   "display_name": "workspace",
   "language": "python",
   "name": "workspace"
  },
  "language_info": {
   "codemirror_mode": {
    "name": "ipython",
    "version": 3
   },
   "file_extension": ".py",
   "mimetype": "text/x-python",
   "name": "python",
   "nbconvert_exporter": "python",
   "pygments_lexer": "ipython3",
   "version": "3.12.2"
  },
  "widgets": {
   "application/vnd.jupyter.widget-state+json": {
    "state": {},
    "version_major": 2,
    "version_minor": 0
   }
  }
 },
 "nbformat": 4,
 "nbformat_minor": 5
}
